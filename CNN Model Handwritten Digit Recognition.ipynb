{
 "cells": [
  {
   "cell_type": "code",
   "execution_count": 4,
   "id": "6c825f26",
   "metadata": {},
   "outputs": [
    {
     "name": "stdout",
     "output_type": "stream",
     "text": [
      "Model: \"sequential_3\"\n",
      "_________________________________________________________________\n",
      " Layer (type)                Output Shape              Param #   \n",
      "=================================================================\n",
      " conv2d_6 (Conv2D)           (None, 26, 26, 32)        320       \n",
      "                                                                 \n",
      " max_pooling2d_6 (MaxPooling  (None, 13, 13, 32)       0         \n",
      " 2D)                                                             \n",
      "                                                                 \n",
      " conv2d_7 (Conv2D)           (None, 11, 11, 64)        18496     \n",
      "                                                                 \n",
      " max_pooling2d_7 (MaxPooling  (None, 5, 5, 64)         0         \n",
      " 2D)                                                             \n",
      "                                                                 \n",
      " flatten_1 (Flatten)         (None, 1600)              0         \n",
      "                                                                 \n",
      " dense_2 (Dense)             (None, 64)                102464    \n",
      "                                                                 \n",
      " dense_3 (Dense)             (None, 10)                650       \n",
      "                                                                 \n",
      "=================================================================\n",
      "Total params: 121,930\n",
      "Trainable params: 121,930\n",
      "Non-trainable params: 0\n",
      "_________________________________________________________________\n"
     ]
    }
   ],
   "source": [
    "from tensorflow.keras import layers\n",
    "from tensorflow.keras import models\n",
    "from keras.datasets import mnist\n",
    "from keras.utils import to_categorical\n",
    "\n",
    "(train_images,train_labels),(test_images,test_labels) = mnist.load_data()\n",
    "\n",
    "\n",
    "model = models.Sequential()\n",
    "model.add(layers.Conv2D(32,(3,3),activation='relu',input_shape=(28,28,1)))\n",
    "model.add(layers.MaxPooling2D((2,2)))\n",
    "model.add(layers.Conv2D(64,(3,3),activation='relu'))\n",
    "model.add(layers.MaxPooling2D((2,2)))\n",
    "\n",
    "model.add(layers.Flatten())\n",
    "model.add(layers.Dense(64,activation='relu'))\n",
    "\n",
    "model.add(layers.Dense(10,activation='softmax'))\n",
    "model.summary()"
   ]
  },
  {
   "cell_type": "raw",
   "id": "cb0914a4",
   "metadata": {},
   "source": []
  },
  {
   "cell_type": "code",
   "execution_count": 6,
   "id": "9877810f",
   "metadata": {},
   "outputs": [
    {
     "name": "stdout",
     "output_type": "stream",
     "text": [
      "Epoch 1/10\n",
      "938/938 [==============================] - 37s 38ms/step - loss: 0.4496 - accuracy: 0.9370\n",
      "Epoch 2/10\n",
      "938/938 [==============================] - 29s 31ms/step - loss: 0.0636 - accuracy: 0.9811\n",
      "Epoch 3/10\n",
      "938/938 [==============================] - 29s 31ms/step - loss: 0.0462 - accuracy: 0.9862\n",
      "Epoch 4/10\n",
      "938/938 [==============================] - 29s 31ms/step - loss: 0.0354 - accuracy: 0.9885\n",
      "Epoch 5/10\n",
      "938/938 [==============================] - 29s 31ms/step - loss: 0.0316 - accuracy: 0.9900\n",
      "Epoch 6/10\n",
      "938/938 [==============================] - 29s 31ms/step - loss: 0.0282 - accuracy: 0.9912\n",
      "Epoch 7/10\n",
      "938/938 [==============================] - 29s 31ms/step - loss: 0.0263 - accuracy: 0.9919\n",
      "Epoch 8/10\n",
      "938/938 [==============================] - 28s 30ms/step - loss: 0.0217 - accuracy: 0.9931\n",
      "Epoch 9/10\n",
      "938/938 [==============================] - 30s 32ms/step - loss: 0.0199 - accuracy: 0.9934\n",
      "Epoch 10/10\n",
      "938/938 [==============================] - 40s 42ms/step - loss: 0.0199 - accuracy: 0.9935\n",
      "313/313 [==============================] - 2s 7ms/step - loss: 0.0552 - accuracy: 0.9870\n",
      "0.9869999885559082\n"
     ]
    }
   ],
   "source": [
    "train_images = train_images.reshape((60000,28,28,1))\n",
    "train_images.astype('float32')/255\n",
    "\n",
    "test_images = test_images.reshape((10000,28,28,1))\n",
    "test_images.astype('float32')/255\n",
    "\n",
    "train_labels = to_categorical(train_labels)\n",
    "test_labels = to_categorical(test_labels)\n",
    "\n",
    "model.compile(optimizer='adam',loss='categorical_crossentropy',metrics=['accuracy'])\n",
    "model.fit(train_images,train_labels,epochs=10,batch_size=64)\n",
    "\n",
    "test_loss,test_acc = model.evaluate(test_images,test_labels)\n",
    "print(test_acc)\n",
    "model.save('mnist.h5')"
   ]
  }
 ],
 "metadata": {
  "kernelspec": {
   "display_name": "Python 3 (ipykernel)",
   "language": "python",
   "name": "python3"
  },
  "language_info": {
   "codemirror_mode": {
    "name": "ipython",
    "version": 3
   },
   "file_extension": ".py",
   "mimetype": "text/x-python",
   "name": "python",
   "nbconvert_exporter": "python",
   "pygments_lexer": "ipython3",
   "version": "3.9.13"
  }
 },
 "nbformat": 4,
 "nbformat_minor": 5
}
